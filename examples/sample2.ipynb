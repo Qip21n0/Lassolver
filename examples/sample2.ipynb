{
 "cells": [
  {
   "cell_type": "code",
   "execution_count": 1,
   "metadata": {
    "id": "cM-u4qW2gwSn"
   },
   "outputs": [],
   "source": [
    "import numpy as np\n",
    "import matplotlib.pyplot as plt\n",
    "from tqdm import tqdm"
   ]
  },
  {
   "cell_type": "code",
   "execution_count": 2,
   "metadata": {
    "id": "4hE2BX8lgwSo"
   },
   "outputs": [],
   "source": [
    "from lassolver.utils.func import *\n",
    "from lassolver.utils.signal import *\n",
    "from lassolver.utils.utils import *\n",
    "\n",
    "from lassolver.matrices.iid_gauss import iidGaussian\n",
    "from lassolver.matrices.uni_invar import UniInvar\n",
    "\n",
    "from lassolver.solver.amp import AMP\n",
    "from lassolver.solver.oamp import OAMP\n",
    "\n",
    "from lassolver.dsolver.d_amp import D_AMP\n",
    "from lassolver.dsolver.d_oamp import D_OAMP"
   ]
  },
  {
   "cell_type": "code",
   "execution_count": null,
   "metadata": {
    "id": "2VKoKn2EgwSo"
   },
   "outputs": [],
   "source": []
  },
  {
   "cell_type": "markdown",
   "metadata": {
    "id": "OEVf5rzGgwSo"
   },
   "source": [
    "# 数値実験の設定"
   ]
  },
  {
   "cell_type": "code",
   "execution_count": 3,
   "metadata": {
    "id": "ZQ4ye_3pgwSp"
   },
   "outputs": [],
   "source": [
    "N = 1000  # 列数\n",
    "alpha = 0.5  # 圧縮率\n",
    "M = int(alpha*N)  # 行数\n",
    "rho = 0.2  # 非零成分の割合"
   ]
  },
  {
   "cell_type": "code",
   "execution_count": 4,
   "metadata": {
    "id": "wHXHb50PgwSp"
   },
   "outputs": [],
   "source": [
    "SNR = 60  # 信号対雑音比\n",
    "kappa = 5  # 条件数\n",
    "P = 10  # ノード数\n",
    "T = 30  # 反復回数\n",
    "sim = 100  # 実験数"
   ]
  },
  {
   "cell_type": "markdown",
   "metadata": {
    "id": "CFC46miCgwSp"
   },
   "source": [
    "# i.i.d.ガウス行列での信号再構成"
   ]
  },
  {
   "cell_type": "code",
   "execution_count": 5,
   "metadata": {
    "id": "hQEY7UMfgwSq"
   },
   "outputs": [],
   "source": [
    "MSE_tmpG = np.empty((4, sim, T+1))\n",
    "CommCost_tmpG = np.empty((2, sim, T))"
   ]
  },
  {
   "cell_type": "code",
   "execution_count": 6,
   "metadata": {
    "id": "nMIHXCThgwSq",
    "outputId": "18fc720f-2cda-4968-ca6e-bd3442a7c246"
   },
   "outputs": [
    {
     "name": "stderr",
     "output_type": "stream",
     "text": [
      "  0%|          | 0/10 [00:00<?, ?it/s]\n",
      "  0%|          | 0/10 [00:00<?, ?it/s]\u001b[A\n",
      " 10%|█         | 1/10 [00:06<00:59,  6.62s/it]\u001b[A\n",
      " 20%|██        | 2/10 [00:13<00:54,  6.87s/it]\u001b[A\n",
      " 30%|███       | 3/10 [00:20<00:46,  6.63s/it]\u001b[A\n",
      " 40%|████      | 4/10 [00:26<00:39,  6.54s/it]\u001b[A\n",
      " 50%|█████     | 5/10 [00:32<00:32,  6.46s/it]\u001b[A\n",
      " 60%|██████    | 6/10 [00:39<00:25,  6.42s/it]\u001b[A\n",
      " 70%|███████   | 7/10 [00:45<00:19,  6.40s/it]\u001b[A\n",
      " 80%|████████  | 8/10 [00:51<00:12,  6.39s/it]\u001b[A\n",
      " 90%|█████████ | 9/10 [00:58<00:06,  6.39s/it]\u001b[A\n",
      "100%|██████████| 10/10 [01:04<00:00,  6.46s/it]\u001b[A\n",
      " 10%|█         | 1/10 [01:04<09:41, 64.65s/it]\n",
      "  0%|          | 0/10 [00:00<?, ?it/s]\u001b[A\n",
      " 10%|█         | 1/10 [00:06<00:56,  6.28s/it]\u001b[A\n",
      " 20%|██        | 2/10 [00:12<00:51,  6.42s/it]\u001b[A\n",
      " 30%|███       | 3/10 [00:19<00:44,  6.35s/it]\u001b[A\n",
      " 40%|████      | 4/10 [00:25<00:37,  6.32s/it]\u001b[A\n",
      " 50%|█████     | 5/10 [00:31<00:31,  6.31s/it]\u001b[A\n",
      " 60%|██████    | 6/10 [00:37<00:25,  6.29s/it]\u001b[A\n",
      " 70%|███████   | 7/10 [00:44<00:18,  6.32s/it]\u001b[A\n",
      " 80%|████████  | 8/10 [00:52<00:13,  6.98s/it]\u001b[A\n",
      " 90%|█████████ | 9/10 [00:58<00:06,  6.77s/it]\u001b[A\n",
      "100%|██████████| 10/10 [01:05<00:00,  6.53s/it]\u001b[A\n",
      " 20%|██        | 2/10 [02:09<08:40, 65.04s/it]\n",
      "  0%|          | 0/10 [00:00<?, ?it/s]\u001b[A\n",
      " 10%|█         | 1/10 [00:06<01:00,  6.76s/it]\u001b[A\n",
      " 20%|██        | 2/10 [00:13<00:52,  6.54s/it]\u001b[A\n",
      " 30%|███       | 3/10 [00:19<00:45,  6.49s/it]\u001b[A\n",
      " 40%|████      | 4/10 [00:25<00:38,  6.41s/it]\u001b[A\n",
      " 50%|█████     | 5/10 [00:32<00:32,  6.43s/it]\u001b[A\n",
      " 60%|██████    | 6/10 [00:39<00:26,  6.63s/it]\u001b[A\n",
      " 70%|███████   | 7/10 [00:45<00:19,  6.59s/it]\u001b[A\n",
      " 80%|████████  | 8/10 [00:54<00:14,  7.27s/it]\u001b[A\n",
      " 90%|█████████ | 9/10 [01:01<00:07,  7.10s/it]\u001b[A\n",
      "100%|██████████| 10/10 [01:08<00:00,  6.81s/it]\u001b[A\n",
      " 30%|███       | 3/10 [03:18<07:45, 66.43s/it]\n",
      "  0%|          | 0/10 [00:00<?, ?it/s]\u001b[A\n",
      " 10%|█         | 1/10 [00:06<00:58,  6.52s/it]\u001b[A\n",
      " 20%|██        | 2/10 [00:13<00:52,  6.55s/it]\u001b[A\n",
      " 30%|███       | 3/10 [00:19<00:45,  6.48s/it]\u001b[A\n",
      " 40%|████      | 4/10 [00:25<00:38,  6.40s/it]\u001b[A\n",
      " 50%|█████     | 5/10 [00:32<00:31,  6.37s/it]\u001b[A\n",
      " 60%|██████    | 6/10 [00:40<00:28,  7.23s/it]\u001b[A\n",
      " 70%|███████   | 7/10 [00:47<00:20,  6.91s/it]\u001b[A\n",
      " 80%|████████  | 8/10 [00:53<00:13,  6.71s/it]\u001b[A\n",
      " 90%|█████████ | 9/10 [01:01<00:07,  7.06s/it]\u001b[A\n",
      "100%|██████████| 10/10 [01:08<00:00,  6.81s/it]\u001b[A\n",
      " 40%|████      | 4/10 [04:26<06:42, 67.11s/it]\n",
      "  0%|          | 0/10 [00:00<?, ?it/s]\u001b[A\n",
      " 10%|█         | 1/10 [00:06<00:59,  6.56s/it]\u001b[A\n",
      " 20%|██        | 2/10 [00:13<00:53,  6.68s/it]\u001b[A\n",
      " 30%|███       | 3/10 [00:21<00:51,  7.38s/it]\u001b[A\n",
      " 40%|████      | 4/10 [00:29<00:46,  7.72s/it]\u001b[A\n",
      " 50%|█████     | 5/10 [00:36<00:37,  7.48s/it]\u001b[A\n",
      " 60%|██████    | 6/10 [00:44<00:30,  7.60s/it]\u001b[A\n",
      " 70%|███████   | 7/10 [00:52<00:22,  7.59s/it]\u001b[A\n",
      " 80%|████████  | 8/10 [00:59<00:14,  7.34s/it]\u001b[A\n",
      " 90%|█████████ | 9/10 [01:06<00:07,  7.26s/it]\u001b[A\n",
      "100%|██████████| 10/10 [01:12<00:00,  7.29s/it]\u001b[A\n",
      " 50%|█████     | 5/10 [05:39<05:46, 69.22s/it]\n",
      "  0%|          | 0/10 [00:00<?, ?it/s]\u001b[A\n",
      " 10%|█         | 1/10 [00:08<01:17,  8.56s/it]\u001b[A\n",
      " 20%|██        | 2/10 [00:17<01:11,  8.91s/it]\u001b[A\n",
      " 30%|███       | 3/10 [00:24<00:56,  8.00s/it]\u001b[A\n",
      " 40%|████      | 4/10 [00:32<00:46,  7.82s/it]\u001b[A\n",
      " 50%|█████     | 5/10 [00:38<00:36,  7.32s/it]\u001b[A\n",
      " 60%|██████    | 6/10 [00:45<00:28,  7.00s/it]\u001b[A\n",
      " 70%|███████   | 7/10 [00:51<00:20,  6.88s/it]\u001b[A\n",
      " 80%|████████  | 8/10 [00:59<00:14,  7.13s/it]\u001b[A\n",
      " 90%|█████████ | 9/10 [01:06<00:07,  7.16s/it]\u001b[A\n",
      "100%|██████████| 10/10 [01:13<00:00,  7.37s/it]\u001b[A\n",
      " 60%|██████    | 6/10 [06:52<04:43, 70.77s/it]\n",
      "  0%|          | 0/10 [00:00<?, ?it/s]\u001b[A\n",
      " 10%|█         | 1/10 [00:07<01:07,  7.52s/it]\u001b[A\n",
      " 20%|██        | 2/10 [00:14<00:57,  7.17s/it]\u001b[A\n",
      " 30%|███       | 3/10 [00:21<00:51,  7.29s/it]\u001b[A\n",
      " 40%|████      | 4/10 [00:28<00:42,  7.03s/it]\u001b[A\n",
      " 50%|█████     | 5/10 [00:36<00:37,  7.42s/it]\u001b[A\n",
      " 60%|██████    | 6/10 [00:45<00:32,  8.09s/it]\u001b[A\n",
      " 70%|███████   | 7/10 [00:53<00:23,  7.89s/it]\u001b[A\n",
      " 80%|████████  | 8/10 [01:02<00:16,  8.26s/it]\u001b[A\n",
      " 90%|█████████ | 9/10 [01:11<00:08,  8.54s/it]\u001b[A\n",
      "100%|██████████| 10/10 [01:18<00:00,  7.88s/it]\u001b[A\n",
      " 70%|███████   | 7/10 [08:11<03:40, 73.41s/it]\n",
      "  0%|          | 0/10 [00:00<?, ?it/s]\u001b[A\n",
      " 10%|█         | 1/10 [00:06<01:00,  6.70s/it]\u001b[A\n",
      " 20%|██        | 2/10 [00:13<00:52,  6.59s/it]\u001b[A\n",
      " 30%|███       | 3/10 [00:19<00:45,  6.53s/it]\u001b[A\n",
      " 40%|████      | 4/10 [00:26<00:38,  6.47s/it]\u001b[A\n",
      " 50%|█████     | 5/10 [00:33<00:33,  6.76s/it]\u001b[A\n",
      " 60%|██████    | 6/10 [00:39<00:26,  6.63s/it]\u001b[A\n",
      " 70%|███████   | 7/10 [00:46<00:19,  6.59s/it]\u001b[A\n",
      " 80%|████████  | 8/10 [00:52<00:13,  6.51s/it]\u001b[A\n",
      " 90%|█████████ | 9/10 [00:58<00:06,  6.46s/it]\u001b[A\n",
      "100%|██████████| 10/10 [01:05<00:00,  6.52s/it]\u001b[A\n",
      " 80%|████████  | 8/10 [09:17<02:21, 70.82s/it]\n",
      "  0%|          | 0/10 [00:00<?, ?it/s]\u001b[A\n",
      " 10%|█         | 1/10 [00:06<00:57,  6.34s/it]\u001b[A\n",
      " 20%|██        | 2/10 [00:12<00:50,  6.36s/it]\u001b[A\n",
      " 30%|███       | 3/10 [00:19<00:45,  6.47s/it]\u001b[A\n",
      " 40%|████      | 4/10 [00:25<00:38,  6.48s/it]\u001b[A\n",
      " 50%|█████     | 5/10 [00:32<00:32,  6.45s/it]\u001b[A\n",
      " 60%|██████    | 6/10 [00:41<00:29,  7.27s/it]\u001b[A\n",
      " 70%|███████   | 7/10 [00:48<00:21,  7.26s/it]\u001b[A\n",
      " 80%|████████  | 8/10 [00:54<00:13,  6.96s/it]\u001b[A\n",
      " 90%|█████████ | 9/10 [01:01<00:06,  6.85s/it]\u001b[A\n",
      "100%|██████████| 10/10 [01:07<00:00,  6.77s/it]\u001b[A\n",
      " 90%|█████████ | 9/10 [10:24<01:09, 69.84s/it]\n",
      "  0%|          | 0/10 [00:00<?, ?it/s]\u001b[A\n",
      " 10%|█         | 1/10 [00:06<00:57,  6.35s/it]\u001b[A\n",
      " 20%|██        | 2/10 [00:12<00:51,  6.39s/it]\u001b[A\n",
      " 30%|███       | 3/10 [00:19<00:44,  6.37s/it]\u001b[A\n",
      " 40%|████      | 4/10 [00:25<00:38,  6.38s/it]\u001b[A\n",
      " 50%|█████     | 5/10 [00:32<00:32,  6.54s/it]\u001b[A\n",
      " 60%|██████    | 6/10 [00:38<00:25,  6.46s/it]\u001b[A\n",
      " 70%|███████   | 7/10 [00:44<00:19,  6.41s/it]\u001b[A\n",
      " 80%|████████  | 8/10 [00:51<00:12,  6.39s/it]\u001b[A\n",
      " 90%|█████████ | 9/10 [00:57<00:06,  6.39s/it]\u001b[A\n",
      "100%|██████████| 10/10 [01:04<00:00,  6.43s/it]\u001b[A\n",
      "100%|██████████| 10/10 [11:29<00:00, 68.91s/it]\n"
     ]
    }
   ],
   "source": [
    "for i in tqdm(range(10)):\n",
    "    iidG = iidGaussian(M, N, m=0, v=1/M)\n",
    "    \n",
    "    for j in tqdm(range(10)):\n",
    "        x = bernouli_gaussian(N, rho)\n",
    "        tmpG = [0, 0, 0, 0]\n",
    "        \n",
    "        tmpG[0] = AMP(iidG.A, x, SNR)\n",
    "        tmpG[1] = D_AMP(iidG.A, x, SNR, P)\n",
    "        tmpG[2] = OAMP(iidG.A, x, SNR)\n",
    "        tmpG[3] = D_OAMP(iidG.A, x, SNR, P)\n",
    "\n",
    "        tmpG[0].estimate(T) # AMP\n",
    "        tmpG[1].estimate(T) # D-AMP\n",
    "        tmpG[2].estimate(T, C=1.9, ord='LMMSE') # OAMP\n",
    "        tmpG[3].estimate(T, C=1.9, ord='LMMSE') # D-OAMP\n",
    "        \n",
    "        n = 10*i + j\n",
    "        for k in range(4):\n",
    "            MSE_tmpG[k, n] = tmpG[k].mse\n",
    "        for k in range(2):\n",
    "            CommCost_tmpG[k, n] = tmpG[2*k+1].communication_cost"
   ]
  },
  {
   "cell_type": "code",
   "execution_count": 7,
   "metadata": {
    "id": "TPRseBBYgwSr"
   },
   "outputs": [],
   "source": [
    "MSE_meanG = np.empty((4, T+1))\n",
    "CommCost_meanG = np.empty((2, T))\n",
    "for i in range(4):\n",
    "    MSE_meanG[i] = np.mean(MSE_tmpG[i], axis=0)\n",
    "for i in range(2):\n",
    "    CommCost_meanG[i] = np.mean(CommCost_tmpG[i], axis=0)"
   ]
  },
  {
   "cell_type": "code",
   "execution_count": 8,
   "metadata": {
    "id": "UHYTJ0EagwSr"
   },
   "outputs": [],
   "source": [
    "ix1 = np.arange(0, T+1, 5)\n",
    "ix2 = np.arange(0, T, 5)\n",
    "it1 = np.arange(0, T+1, 1)\n",
    "it2 = np.arange(0, T, 1)"
   ]
  },
  {
   "cell_type": "markdown",
   "metadata": {
    "id": "UqnDXzIhgwSr"
   },
   "source": [
    "## MSE (100回平均)"
   ]
  },
  {
   "cell_type": "code",
   "execution_count": 9,
   "metadata": {
    "id": "KsxtrZtcgwSs",
    "outputId": "2196c6f6-fa4c-45b4-a14b-94f92c2f0204"
   },
   "outputs": [
    {
     "data": {
      "image/png": "[encoded data removed]",
      "text/plain": [
       "<Figure size 432x396 with 1 Axes>"
      ]
     },
     "metadata": {
      "needs_background": "light"
     },
     "output_type": "display_data"
    }
   ],
   "source": [
    "plt.figure(figsize=(6, 5.5))\n",
    "\n",
    "plt.xlabel('iteration')\n",
    "plt.ylabel('MSE')\n",
    "\n",
    "plt.xticks(ix1)\n",
    "plt.yscale('log')\n",
    "\n",
    "plt.ylim(1e-3, 3e+0)\n",
    "\n",
    "plt.plot(it1, MSE_meanG[0], label=\"AMP\")\n",
    "plt.plot(it1, MSE_meanG[1], label=\"D-AMP\", color='blue')\n",
    "plt.plot(it1, MSE_meanG[2], label=\"OAMP\", color='orange')\n",
    "plt.plot(it1, MSE_meanG[3], label=\"D-OAMP\", color='red')\n",
    "\n",
    "plt.legend()\n",
    "plt.grid()"
   ]
  },
  {
   "cell_type": "code",
   "execution_count": 10,
   "metadata": {
    "id": "KtDY1obZgwSs"
   },
   "outputs": [],
   "source": [
    "standard = N * (P-1)"
   ]
  },
  {
   "cell_type": "markdown",
   "metadata": {
    "id": "DHM5yo9NgwSs"
   },
   "source": [
    "## 通信量 (100回平均)"
   ]
  },
  {
   "cell_type": "code",
   "execution_count": 11,
   "metadata": {
    "id": "hoqjvM9PgwSs",
    "outputId": "bfb1b21d-a225-41ee-e537-ca2e4cc26c10"
   },
   "outputs": [
    {
     "data": {
      "image/png": "[encoded data removed]",
      "text/plain": [
       "<Figure size 432x396 with 1 Axes>"
      ]
     },
     "metadata": {
      "needs_background": "light"
     },
     "output_type": "display_data"
    }
   ],
   "source": [
    "plt.figure(figsize=(6, 5.5))\n",
    "\n",
    "plt.xlabel('iteration')\n",
    "plt.ylabel('Communication Cost')\n",
    "plt.xticks(ix2)\n",
    "plt.yticks(np.arange(0, 1, 0.1))\n",
    "plt.ylim(0, 1)\n",
    "\n",
    "plt.plot(it2, CommCost_meanG[0]/standard, label='D-AMP')\n",
    "plt.plot(it2, CommCost_meanG[1]/standard, label='D-OAMP')\n",
    "\n",
    "plt.legend()\n",
    "plt.grid()"
   ]
  },
  {
   "cell_type": "code",
   "execution_count": null,
   "metadata": {
    "id": "dIKlcU9AgwSt"
   },
   "outputs": [],
   "source": []
  },
  {
   "cell_type": "code",
   "execution_count": null,
   "metadata": {
    "id": "N3PIlFPFgwSt"
   },
   "outputs": [],
   "source": []
  },
  {
   "cell_type": "code",
   "execution_count": null,
   "metadata": {
    "id": "aOJUxSuMgwSt"
   },
   "outputs": [],
   "source": []
  },
  {
   "cell_type": "markdown",
   "metadata": {
    "id": "Tsnhk8rhgwSt"
   },
   "source": [
    "# ユニタリ不変行列での信号再構成"
   ]
  },
  {
   "cell_type": "code",
   "execution_count": 12,
   "metadata": {
    "id": "zjA4ArsQgwSt"
   },
   "outputs": [],
   "source": [
    "MSE_tmpU = np.empty((4, sim, T+1))\n",
    "CommCost_tmpU = np.empty((2, sim, T))"
   ]
  },
  {
   "cell_type": "code",
   "execution_count": 13,
   "metadata": {
    "id": "SJ5usIT6gwSt",
    "outputId": "4cc1cfca-02da-45d0-9a59-a9c973dc7dcf"
   },
   "outputs": [
    {
     "name": "stderr",
     "output_type": "stream",
     "text": [
      "  0%|          | 0/10 [00:00<?, ?it/s]\n",
      "  0%|          | 0/10 [00:00<?, ?it/s]\u001b[A\n",
      " 10%|█         | 1/10 [02:09<19:22, 129.17s/it]\u001b[A\n",
      " 20%|██        | 2/10 [04:16<17:02, 127.84s/it]\u001b[A\n",
      " 30%|███       | 3/10 [06:23<14:53, 127.70s/it]\u001b[A\n",
      " 40%|████      | 4/10 [08:32<12:48, 128.03s/it]\u001b[A\n",
      " 50%|█████     | 5/10 [10:40<10:40, 128.13s/it]\u001b[A\n",
      " 60%|██████    | 6/10 [12:49<08:33, 128.48s/it]\u001b[A\n",
      " 70%|███████   | 7/10 [14:59<06:26, 128.84s/it]\u001b[A\n",
      " 80%|████████  | 8/10 [17:08<04:18, 129.15s/it]\u001b[A\n",
      " 90%|█████████ | 9/10 [19:18<02:09, 129.38s/it]\u001b[A\n",
      "100%|██████████| 10/10 [21:28<00:00, 128.85s/it]\u001b[A\n",
      " 10%|█         | 1/10 [28:55<4:20:22, 1735.81s/it]\n",
      "  0%|          | 0/10 [00:00<?, ?it/s]\u001b[A\n",
      " 10%|█         | 1/10 [01:48<16:13, 108.21s/it]\u001b[A\n",
      " 20%|██        | 2/10 [03:34<14:18, 107.26s/it]\u001b[A\n",
      " 30%|███       | 3/10 [05:21<12:28, 106.91s/it]\u001b[A\n",
      " 40%|████      | 4/10 [07:08<10:41, 106.93s/it]\u001b[A\n",
      " 50%|█████     | 5/10 [08:55<08:54, 106.95s/it]\u001b[A\n",
      " 60%|██████    | 6/10 [10:42<07:07, 106.99s/it]\u001b[A\n",
      " 70%|███████   | 7/10 [12:29<05:20, 106.95s/it]\u001b[A\n",
      " 80%|████████  | 8/10 [14:16<03:34, 107.08s/it]\u001b[A\n",
      " 90%|█████████ | 9/10 [16:03<01:46, 106.99s/it]\u001b[A\n",
      "100%|██████████| 10/10 [17:49<00:00, 107.00s/it]\u001b[A\n",
      " 20%|██        | 2/10 [54:11<3:34:09, 1606.24s/it]\n",
      "  0%|          | 0/10 [00:00<?, ?it/s]\u001b[A\n",
      " 10%|█         | 1/10 [01:47<16:05, 107.24s/it]\u001b[A\n",
      " 20%|██        | 2/10 [03:33<14:14, 106.81s/it]\u001b[A\n",
      " 30%|███       | 3/10 [05:19<12:25, 106.47s/it]\u001b[A\n",
      " 40%|████      | 4/10 [07:05<10:37, 106.28s/it]\u001b[A\n",
      " 50%|█████     | 5/10 [08:51<08:50, 106.17s/it]\u001b[A\n",
      " 60%|██████    | 6/10 [10:38<07:04, 106.23s/it]\u001b[A\n",
      " 70%|███████   | 7/10 [12:23<05:18, 106.05s/it]\u001b[A\n",
      " 80%|████████  | 8/10 [14:09<03:31, 105.90s/it]\u001b[A\n",
      " 90%|█████████ | 9/10 [15:55<01:45, 105.88s/it]\u001b[A\n",
      "100%|██████████| 10/10 [17:40<00:00, 106.06s/it]\u001b[A\n",
      " 30%|███       | 3/10 [1:18:44<3:00:18, 1545.47s/it]\n",
      "  0%|          | 0/10 [00:00<?, ?it/s]\u001b[A\n",
      " 10%|█         | 1/10 [01:46<15:57, 106.36s/it]\u001b[A\n",
      " 20%|██        | 2/10 [03:31<14:06, 105.77s/it]\u001b[A\n",
      " 30%|███       | 3/10 [05:17<12:19, 105.57s/it]\u001b[A\n",
      " 40%|████      | 4/10 [07:02<10:32, 105.41s/it]\u001b[A\n",
      " 50%|█████     | 5/10 [08:47<08:46, 105.31s/it]\u001b[A\n",
      " 60%|██████    | 6/10 [10:32<07:00, 105.16s/it]\u001b[A\n",
      " 70%|███████   | 7/10 [12:17<05:15, 105.15s/it]\u001b[A\n",
      " 80%|████████  | 8/10 [14:02<03:30, 105.22s/it]\u001b[A\n",
      " 90%|█████████ | 9/10 [15:47<01:45, 105.13s/it]\u001b[A\n",
      "100%|██████████| 10/10 [17:32<00:00, 105.26s/it]\u001b[A\n",
      " 40%|████      | 4/10 [1:43:05<2:31:13, 1512.30s/it]\n",
      "  0%|          | 0/10 [00:00<?, ?it/s]\u001b[A\n",
      " 10%|█         | 1/10 [01:45<15:49, 105.53s/it]\u001b[A\n",
      " 20%|██        | 2/10 [03:30<14:00, 105.06s/it]\u001b[A\n",
      " 30%|███       | 3/10 [05:14<12:12, 104.65s/it]\u001b[A\n",
      " 40%|████      | 4/10 [06:58<10:26, 104.48s/it]\u001b[A\n",
      " 50%|█████     | 5/10 [08:46<08:47, 105.53s/it]\u001b[A\n",
      " 60%|██████    | 6/10 [10:33<07:04, 106.19s/it]\u001b[A\n",
      " 70%|███████   | 7/10 [12:20<05:19, 106.41s/it]\u001b[A\n",
      " 80%|████████  | 8/10 [14:07<03:33, 106.60s/it]\u001b[A\n",
      " 90%|█████████ | 9/10 [15:54<01:46, 106.64s/it]\u001b[A\n",
      "100%|██████████| 10/10 [17:41<00:00, 106.11s/it]\u001b[A\n",
      " 50%|█████     | 5/10 [2:07:34<2:04:41, 1496.35s/it]\n",
      "  0%|          | 0/10 [00:00<?, ?it/s]\u001b[A\n",
      " 10%|█         | 1/10 [01:49<16:21, 109.10s/it]\u001b[A\n",
      " 20%|██        | 2/10 [03:36<14:24, 108.12s/it]\u001b[A\n",
      " 30%|███       | 3/10 [05:24<12:36, 108.04s/it]\u001b[A\n",
      " 40%|████      | 4/10 [07:12<10:47, 107.94s/it]\u001b[A\n",
      " 50%|█████     | 5/10 [08:59<08:59, 107.81s/it]\u001b[A\n",
      " 60%|██████    | 6/10 [10:47<07:10, 107.75s/it]\u001b[A\n",
      " 70%|███████   | 7/10 [12:35<05:23, 107.75s/it]\u001b[A\n",
      " 80%|████████  | 8/10 [14:36<03:44, 112.10s/it]\u001b[A\n",
      " 90%|█████████ | 9/10 [16:43<01:56, 116.67s/it]\u001b[A\n",
      "100%|██████████| 10/10 [18:50<00:00, 113.03s/it]\u001b[A\n",
      " 60%|██████    | 6/10 [2:33:17<1:40:49, 1512.34s/it]\n",
      "  0%|          | 0/10 [00:00<?, ?it/s]\u001b[A\n",
      " 10%|█         | 1/10 [02:08<19:14, 128.26s/it]\u001b[A\n",
      " 20%|██        | 2/10 [04:15<17:01, 127.71s/it]\u001b[A\n",
      " 30%|███       | 3/10 [06:22<14:52, 127.51s/it]\u001b[A\n",
      " 40%|████      | 4/10 [08:29<12:43, 127.30s/it]\u001b[A\n",
      " 50%|█████     | 5/10 [10:37<10:36, 127.25s/it]\u001b[A\n",
      " 60%|██████    | 6/10 [12:43<08:27, 126.92s/it]\u001b[A\n",
      " 70%|███████   | 7/10 [14:50<06:20, 126.92s/it]\u001b[A\n",
      " 80%|████████  | 8/10 [16:54<04:11, 125.94s/it]\u001b[A\n",
      " 90%|█████████ | 9/10 [18:42<02:00, 120.61s/it]\u001b[A\n",
      "100%|██████████| 10/10 [20:28<00:00, 122.90s/it]\u001b[A\n",
      " 70%|███████   | 7/10 [3:01:38<1:18:42, 1574.07s/it]\n",
      "  0%|          | 0/10 [00:00<?, ?it/s]\u001b[A\n",
      " 10%|█         | 1/10 [01:46<15:55, 106.17s/it]\u001b[A\n",
      " 20%|██        | 2/10 [03:30<14:02, 105.29s/it]\u001b[A\n",
      " 30%|███       | 3/10 [05:16<12:18, 105.52s/it]\u001b[A\n",
      " 40%|████      | 4/10 [07:01<10:31, 105.18s/it]\u001b[A\n",
      " 50%|█████     | 5/10 [08:45<08:44, 104.80s/it]\u001b[A\n",
      " 60%|██████    | 6/10 [10:29<06:57, 104.46s/it]\u001b[A\n",
      " 70%|███████   | 7/10 [12:12<05:12, 104.14s/it]\u001b[A\n",
      " 80%|████████  | 8/10 [13:56<03:28, 104.18s/it]\u001b[A\n",
      " 90%|█████████ | 9/10 [15:41<01:44, 104.16s/it]\u001b[A\n",
      "100%|██████████| 10/10 [17:25<00:00, 104.51s/it]\u001b[A\n",
      " 80%|████████  | 8/10 [3:25:50<51:10, 1535.08s/it]  \n",
      "  0%|          | 0/10 [00:00<?, ?it/s]\u001b[A\n",
      " 10%|█         | 1/10 [01:44<15:44, 104.94s/it]\u001b[A\n",
      " 20%|██        | 2/10 [03:31<14:05, 105.69s/it]\u001b[A\n",
      " 30%|███       | 3/10 [05:16<12:19, 105.67s/it]\u001b[A\n",
      " 40%|████      | 4/10 [07:03<10:36, 106.03s/it]\u001b[A\n",
      " 50%|█████     | 5/10 [08:49<08:50, 106.11s/it]\u001b[A\n",
      " 60%|██████    | 6/10 [10:34<07:03, 105.77s/it]\u001b[A\n",
      " 70%|███████   | 7/10 [12:20<05:17, 105.68s/it]\u001b[A\n",
      " 80%|████████  | 8/10 [14:04<03:30, 105.38s/it]\u001b[A\n",
      " 90%|█████████ | 9/10 [15:50<01:45, 105.30s/it]\u001b[A\n",
      "100%|██████████| 10/10 [17:35<00:00, 105.57s/it]\u001b[A\n",
      " 90%|█████████ | 9/10 [3:50:05<25:10, 1510.01s/it]\n",
      "  0%|          | 0/10 [00:00<?, ?it/s]\u001b[A\n",
      " 10%|█         | 1/10 [01:47<16:04, 107.20s/it]\u001b[A\n",
      " 20%|██        | 2/10 [03:34<14:17, 107.21s/it]\u001b[A\n",
      " 30%|███       | 3/10 [05:20<12:26, 106.65s/it]\u001b[A\n",
      " 40%|████      | 4/10 [07:06<10:37, 106.30s/it]\u001b[A\n",
      " 50%|█████     | 5/10 [09:03<09:12, 110.42s/it]\u001b[A\n",
      " 60%|██████    | 6/10 [11:06<07:38, 114.69s/it]\u001b[A\n",
      " 70%|███████   | 7/10 [13:10<05:53, 117.67s/it]\u001b[A\n",
      " 80%|████████  | 8/10 [15:13<03:58, 119.39s/it]\u001b[A\n",
      " 90%|█████████ | 9/10 [17:18<02:00, 120.91s/it]\u001b[A\n",
      "100%|██████████| 10/10 [19:23<00:00, 116.33s/it]\u001b[A\n",
      "100%|██████████| 10/10 [4:16:16<00:00, 1537.62s/it]\n"
     ]
    }
   ],
   "source": [
    "for i in tqdm(range(10)):\n",
    "    UniInv = UniInvar(M, N, kappa)\n",
    "    \n",
    "    for j in tqdm(range(10)):\n",
    "        x = bernouli_gaussian(N, rho)\n",
    "        tmpU = [0, 0, 0, 0]\n",
    "        \n",
    "        tmpU[0] = AMP(UniInv.A, x, SNR)\n",
    "        tmpU[1] = D_AMP(UniInv.A, x, SNR, P)\n",
    "        tmpU[2] = OAMP(UniInv.A, x, SNR)\n",
    "        tmpU[3] = D_OAMP(UniInv.A, x, SNR, P)\n",
    "\n",
    "        tmpU[0].estimate(T) # AMP\n",
    "        tmpU[1].estimate(T) # D-AMP\n",
    "        tmpU[2].estimate(T, C=1.9, ord='LMMSE') # OAMP\n",
    "        tmpU[3].estimate(T, C=1.9, ord='LMMSE') # D-OAMP\n",
    "        \n",
    "        n = 10*i + j\n",
    "        for k in range(4):\n",
    "            MSE_tmpU[k, n] = tmpU[k].mse\n",
    "        for k in range(2):\n",
    "            CommCost_tmpU[k, n] = tmpU[2*k+1].communication_cost"
   ]
  },
  {
   "cell_type": "code",
   "execution_count": 14,
   "metadata": {
    "id": "WitWBm_IgwSu"
   },
   "outputs": [],
   "source": [
    "MSE_meanU = np.empty((4, T+1))\n",
    "CommCost_meanU = np.empty((2, T))\n",
    "for i in range(4):\n",
    "    MSE_meanU[i] = np.mean(MSE_tmpU[i], axis=0)\n",
    "for i in range(2):\n",
    "    CommCost_meanU[i] = np.mean(CommCost_tmpU[i], axis=0)"
   ]
  },
  {
   "cell_type": "markdown",
   "metadata": {
    "id": "0d0Dc2jBgwSu"
   },
   "source": [
    "## MSE (100回平均)"
   ]
  },
  {
   "cell_type": "code",
   "execution_count": 15,
   "metadata": {
    "id": "LztHbOFCgwSu",
    "outputId": "5b848d7e-e4c4-4687-ae4a-c210daff59ad"
   },
   "outputs": [
    {
     "data": {
      "text/plain": [
       "<matplotlib.legend.Legend at 0x124d36d30>"
      ]
     },
     "execution_count": 15,
     "metadata": {},
     "output_type": "execute_result"
    },
    {
     "data": {
      "image/png": "[encoded data removed]",
      "text/plain": [
       "<Figure size 432x396 with 1 Axes>"
      ]
     },
     "metadata": {
      "needs_background": "light"
     },
     "output_type": "display_data"
    }
   ],
   "source": [
    "plt.figure(figsize=(6, 5.5))\n",
    "\n",
    "plt.xlabel('iteration')\n",
    "plt.ylabel('MSE')\n",
    "\n",
    "plt.xticks(ix1)\n",
    "plt.yscale('log')\n",
    "\n",
    "plt.ylim(1e-3, 3e+0)\n",
    "\n",
    "plt.plot(it1, MSE_meanU[0], label=\"AMP\")\n",
    "plt.plot(it1, MSE_meanU[1], label=\"D-AMP\", color='blue')\n",
    "plt.plot(it1, MSE_meanU[2], label=\"OAMP\", color='orange')\n",
    "plt.plot(it1, MSE_meanU[3], label=\"D-OAMP\", color='red')\n",
    "\n",
    "plt.legend()"
   ]
  },
  {
   "cell_type": "markdown",
   "metadata": {
    "id": "V3fV8JgBgwSu"
   },
   "source": [
    "## 通信量 (100回平均)"
   ]
  },
  {
   "cell_type": "code",
   "execution_count": 16,
   "metadata": {
    "id": "lhR1yfNXgwSu",
    "outputId": "a19d683b-e91d-41c6-efc5-64c7c84778fa"
   },
   "outputs": [
    {
     "data": {
      "text/plain": [
       "<matplotlib.legend.Legend at 0x124e390d0>"
      ]
     },
     "execution_count": 16,
     "metadata": {},
     "output_type": "execute_result"
    },
    {
     "data": {
      "image/png": "[encoded data removed]",
      "text/plain": [
       "<Figure size 432x396 with 1 Axes>"
      ]
     },
     "metadata": {
      "needs_background": "light"
     },
     "output_type": "display_data"
    }
   ],
   "source": [
    "plt.figure(figsize=(6, 5.5))\n",
    "\n",
    "plt.xlabel('iteration')\n",
    "plt.ylabel('Communication Cost')\n",
    "\n",
    "plt.xticks(ix2)\n",
    "\n",
    "plt.plot(it2, CommCost_meanU[0], label='D-AMP')\n",
    "plt.plot(it2, CommCost_meanU[1], label='D-OAMP')\n",
    "plt.plot(it2, standard, ls='--', color='r', label='Standard')\n",
    "\n",
    "plt.legend()"
   ]
  },
  {
   "cell_type": "code",
   "execution_count": null,
   "metadata": {
    "id": "M22B_q7pgwSv"
   },
   "outputs": [],
   "source": []
  }
 ],
 "metadata": {
  "colab": {
   "collapsed_sections": [],
   "name": "sample2.ipynb",
   "provenance": []
  },
  "interpreter": {
   "hash": "916dbcbb3f70747c44a77c7bcd40155683ae19c65e1c03b4aa3499c5328201f1"
  },
  "kernelspec": {
   "display_name": "Python 3",
   "language": "python",
   "name": "python3"
  },
  "language_info": {
   "codemirror_mode": {
    "name": "ipython",
    "version": 3
   },
   "file_extension": ".py",
   "mimetype": "text/x-python",
   "name": "python",
   "nbconvert_exporter": "python",
   "pygments_lexer": "ipython3",
   "version": "3.8.10"
  }
 },
 "nbformat": 4,
 "nbformat_minor": 1
}
